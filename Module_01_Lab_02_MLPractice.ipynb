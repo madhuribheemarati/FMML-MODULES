{
  "nbformat": 4,
  "nbformat_minor": 0,
  "metadata": {
    "colab": {
      "provenance": [],
      "include_colab_link": true
    },
    "kernelspec": {
      "name": "python3",
      "display_name": "Python 3"
    },
    "language_info": {
      "name": "python"
    }
  },
  "cells": [
    {
      "cell_type": "markdown",
      "metadata": {
        "id": "view-in-github",
        "colab_type": "text"
      },
      "source": [
        "<a href=\"https://colab.research.google.com/github/madhuribheemarati/FMML-MODULES/blob/main/Module_01_Lab_02_MLPractice.ipynb\" target=\"_parent\"><img src=\"https://colab.research.google.com/assets/colab-badge.svg\" alt=\"Open In Colab\"/></a>"
      ]
    },
    {
      "cell_type": "markdown",
      "metadata": {
        "id": "3Eu9VZbF01eq"
      },
      "source": [
        "# Machine learning terms and metrics\n",
        "\n",
        "FMML Module 1, Lab 2<br>\n",
        "\n",
        "\n",
        " In this lab, we will show a part of the ML pipeline by extracting features, training and testing"
      ]
    },
    {
      "cell_type": "code",
      "metadata": {
        "id": "8qBvyEem0vLi"
      },
      "source": [
        "import matplotlib.pyplot as plt\n",
        "import numpy as np\n",
        "from sklearn import datasets\n",
        "# set randomseed\n",
        "rng = np.random.default_rng(seed=42)"
      ],
      "execution_count": 1,
      "outputs": []
    },
    {
      "cell_type": "markdown",
      "metadata": {
        "id": "u3t59g5s1HfC"
      },
      "source": [
        "In this lab, we will use the California Housing dataset. There are 20640 samples, each with 8 attributes like income of the block, age of the houses per district etc. The task is to predict the cost of the houses per district.\n",
        "\n",
        "Let us download and examine the dataset."
      ]
    },
    {
      "cell_type": "code",
      "metadata": {
        "id": "8LpqjN991GGJ",
        "colab": {
          "base_uri": "https://localhost:8080/"
        },
        "outputId": "712457db-d2ad-470b-cfb4-7315f8a5acf8"
      },
      "source": [
        " dataset =  datasets.fetch_california_housing()\n",
        " # print(dataset.DESCR)  # uncomment this if you want to know more about this dataset\n",
        " # print(dataset.keys())  # if you want to know what else is there in this dataset\n",
        " dataset.target = dataset.target.astype(np.int) # so that we can classify\n",
        " print(dataset.data.shape)\n",
        " print(dataset.target.shape)"
      ],
      "execution_count": 2,
      "outputs": [
        {
          "output_type": "stream",
          "name": "stdout",
          "text": [
            "(20640, 8)\n",
            "(20640,)\n"
          ]
        },
        {
          "output_type": "stream",
          "name": "stderr",
          "text": [
            "<ipython-input-2-60ae2e9a125e>:4: DeprecationWarning: `np.int` is a deprecated alias for the builtin `int`. To silence this warning, use `int` by itself. Doing this will not modify any behavior and is safe. When replacing `np.int`, you may wish to use e.g. `np.int64` or `np.int32` to specify the precision. If you wish to review your current use, check the release note link for additional information.\n",
            "Deprecated in NumPy 1.20; for more details and guidance: https://numpy.org/devdocs/release/1.20.0-notes.html#deprecations\n",
            "  dataset.target = dataset.target.astype(np.int) # so that we can classify\n"
          ]
        }
      ]
    },
    {
      "cell_type": "markdown",
      "metadata": {
        "id": "iNx4174W5xRg"
      },
      "source": [
        "Here is a function for calculating the 1-nearest neighbours"
      ]
    },
    {
      "cell_type": "code",
      "metadata": {
        "id": "07zpydQj1hIQ"
      },
      "source": [
        "def NN1(traindata, trainlabel, query):\n",
        "  diff  = traindata - query  # find the difference between features. Numpy automatically takes care of the size here\n",
        "  sq = diff*diff # square the differences\n",
        "  dist = sq.sum(1) # add up the squares\n",
        "  label = trainlabel[np.argmin(dist)] # our predicted label is the label of the training data which has the least distance from the query\n",
        "  return label\n",
        "\n",
        "def NN(traindata, trainlabel, testdata):\n",
        "  # we will run nearest neighbour for each sample in the test data\n",
        "  # and collect the predicted classes in an array using list comprehension\n",
        "  predlabel = np.array([NN1(traindata, trainlabel, i) for i in testdata])\n",
        "  return predlabel"
      ],
      "execution_count": 3,
      "outputs": []
    },
    {
      "cell_type": "markdown",
      "metadata": {
        "id": "03JktkfIGaje"
      },
      "source": [
        "We will also define a 'random classifier', which randomly allots labels to each sample"
      ]
    },
    {
      "cell_type": "code",
      "metadata": {
        "id": "fogWAtjyGhAH"
      },
      "source": [
        "def RandomClassifier(traindata, trainlabel, testdata):\n",
        "  # in reality, we don't need these arguments\n",
        "\n",
        "  classes = np.unique(trainlabel)\n",
        "  rints = rng.integers(low=0, high=len(classes), size=len(testdata))\n",
        "  predlabel = classes[rints]\n",
        "  return predlabel"
      ],
      "execution_count": 4,
      "outputs": []
    },
    {
      "cell_type": "markdown",
      "metadata": {
        "id": "1Hjf1KHs7fU5"
      },
      "source": [
        "Let us define a metric 'Accuracy' to see how good our learning algorithm is. Accuracy is the ratio of the number of correctly classified samples to the total number of samples. The higher the accuracy, the better the algorithm."
      ]
    },
    {
      "cell_type": "code",
      "metadata": {
        "id": "ouuCqWU07bz-"
      },
      "source": [
        "def Accuracy(gtlabel, predlabel):\n",
        "  assert len(gtlabel)==len(predlabel), \"Length of the groundtruth labels and predicted labels should be the same\"\n",
        "  correct = (gtlabel==predlabel).sum() # count the number of times the groundtruth label is equal to the predicted label.\n",
        "  return correct/len(gtlabel)"
      ],
      "execution_count": 5,
      "outputs": []
    },
    {
      "cell_type": "markdown",
      "metadata": {
        "id": "4vJFwBFa9Klw"
      },
      "source": [
        "Let us make a function to split the dataset with the desired probability."
      ]
    },
    {
      "cell_type": "code",
      "metadata": {
        "id": "Ko0VzpSM2Tdi"
      },
      "source": [
        "def split(data, label, percent):\n",
        "  # generate a random number for each sample\n",
        "  rnd = rng.random(len(label))\n",
        "  split1 = rnd<percent\n",
        "  split2 = rnd>=percent\n",
        "  split1data = data[split1,:]\n",
        "  split1label = label[split1]\n",
        "  split2data = data[split2,:]\n",
        "  split2label = label[split2]\n",
        "  return split1data, split1label, split2data, split2label"
      ],
      "execution_count": 6,
      "outputs": []
    },
    {
      "cell_type": "markdown",
      "metadata": {
        "id": "AcK3LEAJ_LGC"
      },
      "source": [
        "We will reserve 20% of our dataset as the test set. We will not change this portion throughout our experiments"
      ]
    },
    {
      "cell_type": "code",
      "metadata": {
        "id": "bBZkHBLJ1iU-",
        "colab": {
          "base_uri": "https://localhost:8080/"
        },
        "outputId": "7f0dc1de-df53-4c8f-eec0-f8de0c36669d"
      },
      "source": [
        "testdata, testlabel, alltraindata, alltrainlabel = split(dataset.data, dataset.target, 20/100)\n",
        "print('Number of test samples = ', len(testlabel))\n",
        "print('Number of other samples = ', len(alltrainlabel))\n",
        "print('Percent of test data = ', len(testlabel)*100/len(dataset.target),'%')"
      ],
      "execution_count": 7,
      "outputs": [
        {
          "output_type": "stream",
          "name": "stdout",
          "text": [
            "Number of test samples =  4144\n",
            "Number of other samples =  16496\n",
            "Percent of test data =  20.07751937984496 %\n"
          ]
        }
      ]
    },
    {
      "cell_type": "markdown",
      "metadata": {
        "id": "a6Ss0Z6IAGNV"
      },
      "source": [
        "## Experiments with splits\n",
        "\n",
        "Let us reserve some of our train data as a validation set"
      ]
    },
    {
      "cell_type": "code",
      "metadata": {
        "id": "WFew2iry_7W7"
      },
      "source": [
        "traindata, trainlabel, valdata, vallabel = split(alltraindata, alltrainlabel, 75/100)"
      ],
      "execution_count": 8,
      "outputs": []
    },
    {
      "cell_type": "markdown",
      "metadata": {
        "id": "60hiu4clFN1i"
      },
      "source": [
        "What is the accuracy of our classifiers on the train dataset?"
      ]
    },
    {
      "cell_type": "code",
      "metadata": {
        "id": "DBlZDTHUFTZx",
        "colab": {
          "base_uri": "https://localhost:8080/"
        },
        "outputId": "24c0f7bd-dcde-49db-ef77-27f01c2badf4"
      },
      "source": [
        "trainpred = NN(traindata, trainlabel, traindata)\n",
        "trainAccuracy = Accuracy(trainlabel, trainpred)\n",
        "print(\"Train accuracy using nearest neighbour is \", trainAccuracy)\n",
        "\n",
        "trainpred = RandomClassifier(traindata, trainlabel, traindata)\n",
        "trainAccuracy = Accuracy(trainlabel, trainpred)\n",
        "print(\"Train accuracy using random classifier is \", trainAccuracy)"
      ],
      "execution_count": 9,
      "outputs": [
        {
          "output_type": "stream",
          "name": "stdout",
          "text": [
            "Train accuracy using nearest neighbour is  1.0\n",
            "Train accuracy using random classifier is  0.164375808538163\n"
          ]
        }
      ]
    },
    {
      "cell_type": "markdown",
      "metadata": {
        "id": "7h08-9gJDtSy"
      },
      "source": [
        "For nearest neighbour, the train accuracy is always 1. The accuracy of the random classifier is close to 1/(number of classes) which is 0.1666 in our case.\n",
        "\n",
        "Let us predict the labels for our validation set and get the accuracy"
      ]
    },
    {
      "cell_type": "code",
      "metadata": {
        "id": "4h7bXoW_2H3v",
        "colab": {
          "base_uri": "https://localhost:8080/"
        },
        "outputId": "07b80ad7-be88-491d-b848-1d4e6e32a5dc"
      },
      "source": [
        "valpred = NN(traindata, trainlabel, valdata)\n",
        "valAccuracy = Accuracy(vallabel, valpred)\n",
        "print(\"Validation accuracy using nearest neighbour is \", valAccuracy)\n",
        "\n",
        "valpred = RandomClassifier(traindata, trainlabel, valdata)\n",
        "valAccuracy = Accuracy(vallabel, valpred)\n",
        "print(\"Validation accuracy using random classifier is \", valAccuracy)"
      ],
      "execution_count": 10,
      "outputs": [
        {
          "output_type": "stream",
          "name": "stdout",
          "text": [
            "Validation accuracy using nearest neighbour is  0.34108527131782945\n",
            "Validation accuracy using random classifier is  0.1688468992248062\n"
          ]
        }
      ]
    },
    {
      "cell_type": "markdown",
      "metadata": {
        "id": "py9bLguFEjfg"
      },
      "source": [
        "Validation accuracy of nearest neighbour is considerably less than its train accuracy while the validation accuracy of random classifier is the same. However, the validation accuracy of nearest neighbour is twice that of the random classifier.\n",
        "\n",
        "Now let us try another random split and check the validation accuracy"
      ]
    },
    {
      "cell_type": "code",
      "metadata": {
        "id": "ujm3cyYzEntE",
        "colab": {
          "base_uri": "https://localhost:8080/"
        },
        "outputId": "d2840e1a-c5c4-4099-bb1e-1432a7aef163"
      },
      "source": [
        "traindata, trainlabel, valdata, vallabel = split(alltraindata, alltrainlabel, 75/100)\n",
        "valpred = NN(traindata, trainlabel, valdata)\n",
        "valAccuracy = Accuracy(vallabel, valpred)\n",
        "print(\"Validation accuracy of nearest neighbour is \", valAccuracy)"
      ],
      "execution_count": 11,
      "outputs": [
        {
          "output_type": "stream",
          "name": "stdout",
          "text": [
            "Validation accuracy of nearest neighbour is  0.34048257372654156\n"
          ]
        }
      ]
    },
    {
      "cell_type": "markdown",
      "metadata": {
        "id": "oSOx7U83EKie"
      },
      "source": [
        "You can run the above cell multiple times to try with different random splits.\n",
        "We notice that the accuracy is different for each run, but close together.\n",
        "\n",
        "Now let us compare it with the accuracy we get on the test dataset."
      ]
    },
    {
      "cell_type": "code",
      "metadata": {
        "id": "PNEZ5ToYBEDW",
        "colab": {
          "base_uri": "https://localhost:8080/"
        },
        "outputId": "40e8baf6-974f-4523-f303-98141b676b6b"
      },
      "source": [
        "testpred = NN(alltraindata, alltrainlabel, testdata)\n",
        "testAccuracy = Accuracy(testlabel, testpred)\n",
        "print('Test accuracy is ', testAccuracy)"
      ],
      "execution_count": 12,
      "outputs": [
        {
          "output_type": "stream",
          "name": "stdout",
          "text": [
            "Test accuracy is  0.34917953667953666\n"
          ]
        }
      ]
    },
    {
      "cell_type": "markdown",
      "metadata": {
        "id": "w3dGD531K3gH"
      },
      "source": [
        "### Try it out for yourself and answer:\n",
        "1. How is the accuracy of the validation set affected if we increase the percentage of validation set? What happens when we reduce it?\n",
        "2. How does the size of the train and validation set affect how well we can predict the accuracy on the test set using the validation set?\n",
        "3. What do you think is a good percentage to reserve for the validation set so that thest two factors are balanced?\n",
        "\n",
        "Answer for both nearest neighbour and random classifier. You can note down the values for your experiments and plot a graph using  <a href=https://matplotlib.org/stable/gallery/lines_bars_and_markers/step_demo.html#sphx-glr-gallery-lines-bars-and-markers-step-demo-py>plt.plot<href>. Check also for extreme values for splits, like 99.9% or 0.1%"
      ]
    },
    {
      "cell_type": "markdown",
      "source": [
        "**How is the accuracy of the validation set affected if we increase the percentage of validation set? What happens when we reduce it?**"
      ],
      "metadata": {
        "id": "X046O6EVAeBh"
      }
    },
    {
      "cell_type": "markdown",
      "source": [
        "The percentage of the validation set in your data split can have a significant impact on the accuracy of your model's validation performance, and it's important to strike the right balance. Let's explore how increasing or reducing the percentage of the validation set can affect model validation accuracy:\n",
        "\n",
        "Increasing the Percentage of Validation Set:\n",
        "\n",
        "Pros:\n",
        "\n",
        "Better Estimate of Generalization: With a larger validation set, you get a better estimate of how well your model generalizes to unseen data. This is because you are evaluating the model on a more representative sample of your dataset.\n",
        "Reduced Variability: A larger validation set can lead to more stable and consistent validation accuracy results since it's less influenced by random fluctuations in a smaller sample.\n",
        "Cons:\n",
        "\n",
        "Less Data for Training: As you allocate a larger portion of your data to the validation set, you have less data available for training. This can potentially lead to underfitting, where the model may not learn complex patterns effectively.\n",
        "Reducing the Percentage of Validation Set:\n",
        "\n",
        "Pros:\n",
        "\n",
        "More Data for Training: With a smaller validation set, you have more data available for training. This can help the model learn more complex patterns and potentially achieve better performance on the training data.\n",
        "Cons:\n",
        "\n",
        "Less Reliable Validation: A smaller validation set can result in less reliable estimates of model performance. Validation accuracy can be more sensitive to random variations in the data, and the estimate may not be as representative of the model's true generalization performance.\n",
        "Risk of Overfitting: With a very small validation set, there is an increased risk of overfitting to the validation data. The model might perform well on the validation set by memorizing it rather than learning meaningful patterns.\n",
        "\n"
      ],
      "metadata": {
        "id": "XxMS8A4iAgyk"
      }
    },
    {
      "cell_type": "markdown",
      "source": [
        "**How does the size of the train and validation set affect how well we can predict the accuracy on the test set using the validation set?**"
      ],
      "metadata": {
        "id": "s9hDX2KuAq9B"
      }
    },
    {
      "cell_type": "markdown",
      "source": [
        "The size of the training and validation sets can have a significant impact on how well you can predict the accuracy of a model on the test set using the validation set. The relationship between these sets plays a crucial role in estimating a model's generalization performance. Here's how different scenarios may affect your ability to predict test accuracy:\n",
        "\n",
        "Large Training Set, Small Validation Set:\n",
        "\n",
        "Pros: A large training set allows your model to learn from a substantial amount of data, which can help it capture complex patterns and generalize better.\n",
        "Cons: With a small validation set, the estimate of model performance may be less reliable. It might not provide a robust indication of how well the model will perform on unseen data.\n",
        "In this scenario, your model might perform well on the training set but still generalize poorly to the test set, making the validation set less informative in predicting test accuracy.\n",
        "\n",
        "Small Training Set, Large Validation Set:\n",
        "\n",
        "Pros: A large validation set can provide a more stable estimate of model performance. It's less influenced by random variations and may offer a better indication of how well the model generalizes.\n",
        "Cons: A small training set limits the amount of data available for learning, which can lead to underfitting. The model may not be able to capture complex relationships in the data.\n",
        "While the validation set estimate may be more reliable, the model's actual test accuracy might suffer due to the small training set.\n",
        "\n",
        "Balanced Training and Validation Sets:\n",
        "\n",
        "Pros: Balanced sizes for both the training and validation sets strike a reasonable compromise. You have a sufficient amount of data for training to prevent underfitting, and the validation set provides a reasonably reliable estimate of performance.\n",
        "Cons: Depending on the size of your overall dataset, you may have to allocate a significant portion to the validation set, reducing the amount of data available for training.\n",
        "This balance can provide a reasonably good prediction of how the model will perform on the test set."
      ],
      "metadata": {
        "id": "Q8pPTnVkAwtA"
      }
    },
    {
      "cell_type": "markdown",
      "source": [
        "**What do you think is a good percentage to reserve for the validation set so that thest two factors are balanced?**"
      ],
      "metadata": {
        "id": "1bVRRXiaA8K2"
      }
    },
    {
      "cell_type": "markdown",
      "source": [
        "The ideal percentage to reserve for the validation set depends on several factors, including the size of your dataset, the complexity of your model, and the specific goals of your machine learning project. However, a common practice is to allocate around 15% to 30% of your dataset for the validation set when you have a reasonably sized dataset. Here are some considerations for choosing the percentage:\n",
        "\n",
        "Dataset Size:\n",
        "\n",
        "Large Dataset: If you have a large dataset with thousands or tens of thousands of samples, you can often allocate a smaller percentage (e.g., 15% to 20%) for the validation set because there is still plenty of data available for training. This allows you to have a more extensive validation set to provide a more reliable estimate of model performance.\n",
        "\n",
        "Small Dataset: If your dataset is small (a few hundred samples or less), you might need to allocate a larger percentage (e.g., 25% to 30%) for the validation set to ensure that your model gets enough data to learn meaningful patterns during training. A larger validation set can also help provide a more stable estimate of performance.\n",
        "\n",
        "Complexity of Model:\n",
        "\n",
        "Simple Models: If you are using relatively simple models (e.g., linear regression, decision trees with low depth), you might be able to allocate a smaller percentage to the validation set because these models have fewer parameters and require less data to learn.\n",
        "\n",
        "Complex Models: For more complex models (e.g., deep neural networks, ensemble methods), you may want to allocate a larger percentage to the validation set to help prevent overfitting, as these models have a higher capacity to capture complex relationships.\n",
        "\n",
        "Project Goals:\n",
        "\n",
        "Exploratory Analysis: In some cases, you might allocate a larger percentage to the validation set if your primary goal is to understand the data better or perform exploratory analysis. This can help you gain insights into the model's behavior and limitations.\n",
        "Cross-Validation:\n",
        "\n",
        "If you are concerned about the trade-off between training and validation data and want a more robust estimate of model performance, you can also consider using techniques like k-fold cross-validation. Cross-validation involves repeatedly splitting the data into training and validation subsets, which can provide a more comprehensive assessment of model performance."
      ],
      "metadata": {
        "id": "bFk2TjmoBA4z"
      }
    },
    {
      "cell_type": "markdown",
      "metadata": {
        "id": "PnYvkAZLQY7h"
      },
      "source": [
        "## Multiple Splits\n",
        "\n",
        "One way to get more accurate estimates for the test accuracy is by using <b>crossvalidation</b>. Here, we will try a simple version, where we do multiple train/val splits and take the average of validation accuracies as the test accuracy estimation. Here is a function for doing this. Note that this function will take a long time to execute."
      ]
    },
    {
      "cell_type": "code",
      "metadata": {
        "id": "E4nGCUQXBTzo"
      },
      "source": [
        "# you can use this function for random classifier also\n",
        "def AverageAccuracy(alldata, alllabel, splitpercent, iterations, classifier=NN):\n",
        "  accuracy = 0\n",
        "  for ii in range(iterations):\n",
        "    traindata, trainlabel, valdata, vallabel = split(alldata, alllabel, splitpercent)\n",
        "    valpred = classifier(traindata, trainlabel, valdata)\n",
        "    accuracy += Accuracy(vallabel, valpred)\n",
        "  return accuracy/iterations # average of all accuracies"
      ],
      "execution_count": 13,
      "outputs": []
    },
    {
      "cell_type": "code",
      "metadata": {
        "id": "H3qtNar7Bbik",
        "colab": {
          "base_uri": "https://localhost:8080/"
        },
        "outputId": "6db4e42d-a989-4571-abb4-2d033b8fd55d"
      },
      "source": [
        "print('Average validation accuracy is ', AverageAccuracy(alltraindata, alltrainlabel, 75/100, 10, classifier=NN))\n",
        "testpred = NN(alltraindata, alltrainlabel, testdata)\n",
        "print('test accuracy is ',Accuracy(testlabel, testpred) )"
      ],
      "execution_count": 14,
      "outputs": [
        {
          "output_type": "stream",
          "name": "stdout",
          "text": [
            "Average validation accuracy is  0.33584635395170215\n",
            "test accuracy is  0.34917953667953666\n"
          ]
        }
      ]
    },
    {
      "cell_type": "markdown",
      "metadata": {
        "id": "33GIn4x5VH-d"
      },
      "source": [
        "This is a very simple way of doing cross-validation. There are many well-known algorithms for cross-validation, like k-fold cross-validation, leave-one-out etc. This will be covered in detail in a later module. For more information about cross-validation, check <a href=https://en.wikipedia.org/wiki/Cross-validation_(statistics)>Cross-validatioin (Wikipedia)</a>\n",
        "\n",
        "### Questions\n",
        "1. Does averaging the validation accuracy across multiple splits give more consistent results?\n",
        "2. Does it give more accurate estimate of test accuracy?\n",
        "3. What is the effect of the number of iterations on the estimate? Do we get a better estimate with higher iterations?\n",
        "4. Consider the results you got for the previous questions. Can we deal with a very small train dataset or validation dataset by increasing the iterations?\n"
      ]
    },
    {
      "cell_type": "markdown",
      "source": [
        "**Does averaging the validation accuracy across multiple splits give more consistent results?**"
      ],
      "metadata": {
        "id": "xNqUpgBT9Aqs"
      }
    },
    {
      "cell_type": "markdown",
      "source": [
        "Averaging the validation accuracy across multiple splits can indeed provide more consistent and reliable results when evaluating the performance of a machine learning model, especially in scenarios where randomness or variability can impact the training and evaluation process. This practice is commonly referred to as \"cross-validation.\"\n",
        "\n",
        "Cross-validation involves splitting your dataset into multiple subsets or \"folds,\" training the model on different combinations of these folds, and then averaging the evaluation metrics (such as accuracy) obtained from each fold. There are several benefits to using cross-validation:\n",
        "\n",
        "Reduced Variance: By averaging the results from multiple folds, you reduce the impact of random variation that might occur when using a single validation set. This provides a more stable and representative estimate of your model's performance.\n",
        "\n",
        "Better Generalization: Cross-validation helps you assess how well your model generalizes to unseen data, as it evaluates the model's performance on multiple different subsets of the data.\n",
        "\n",
        "Robustness to Data Splitting: Since you use different data splits for each fold, cross-validation ensures that your evaluation results are less dependent on a specific random split of the data. This makes your model assessment more robust.\n"
      ],
      "metadata": {
        "id": "jxm0gFU39Clk"
      }
    },
    {
      "cell_type": "markdown",
      "source": [
        "**Does it give more accurate estimate of test accuracy?**"
      ],
      "metadata": {
        "id": "WjimCl439pay"
      }
    },
    {
      "cell_type": "markdown",
      "source": [
        "Cross-validation provides a more accurate estimate of how well your machine learning model is likely to perform on unseen data compared to a single train-test split. However, it's essential to understand that cross-validation estimates are not the same as the actual test accuracy you would obtain when deploying your model in a real-world setting.\n",
        "\n",
        "Here's how cross-validation relates to estimating test accuracy:\n",
        "\n",
        "More Reliable Estimate: Cross-validation provides a more reliable estimate of a model's performance because it averages results from multiple train-validation splits. This can help reduce the impact of randomness in a single data split, making your estimate more stable and representative.\n",
        "\n",
        "Closer to True Performance: Cross-validation results are typically closer to the model's true performance on unseen data than a single train-test split. It gives you a better understanding of how well your model generalizes to different parts of the dataset.\n",
        "\n",
        "Model Selection and Hyperparameter Tuning: Cross-validation is especially valuable when comparing multiple models or tuning hyperparameters. It allows you to make more informed decisions about which model or parameter settings are likely to perform better on unseen data.\n",
        "\n"
      ],
      "metadata": {
        "id": "JQIlZxUJ9vBl"
      }
    },
    {
      "cell_type": "markdown",
      "source": [
        "**What is the effect of the number of iterations on the estimate? Do we get a better estimate with higher iterations?**"
      ],
      "metadata": {
        "id": "xg8ZbJrU-IPn"
      }
    },
    {
      "cell_type": "markdown",
      "source": [
        "The number of iterations (also known as \"folds\") in cross-validation can have an effect on the accuracy of the estimate. In general, using a higher number of iterations can provide a better estimate of a model's performance, but there are trade-offs to consider.\n",
        "\n",
        "Here's how the number of iterations affects the estimate in cross-validation:\n",
        "\n",
        "More Iterations, Better Estimate: Increasing the number of iterations in cross-validation (e.g., going from 3-fold to 5-fold or 10-fold) typically provides a more accurate and reliable estimate of a model's performance. This is because you are using more diverse subsets of your data for training and validation, reducing the impact of randomness and variability.\n",
        "\n",
        "Computational Cost: While increasing the number of iterations can improve the estimate's accuracy, it also increases the computational cost. Each additional fold requires training and evaluating the model multiple times, which can be time-consuming, especially for large datasets or complex models.\n",
        "\n",
        "Diminishing Returns: There is a point of diminishing returns when it comes to the number of iterations. Going from a 3-fold cross-validation to a 10-fold cross-validation might improve the estimate, but the improvement may be relatively small compared to the increase in computational resources required.\n",
        "\n",
        "Bias-Variance Trade-off: In very small datasets, using a high number of folds can lead to high variance in the estimates because each fold contains very little data. Conversely, in very large datasets, you can often use more folds without significantly increasing the computational cost, leading to more stable estimates."
      ],
      "metadata": {
        "id": "KoaQRSBn-xvc"
      }
    },
    {
      "cell_type": "markdown",
      "source": [
        "**Consider the results you got for the previous questions. Can we deal with a very small train dataset or validation dataset by increasing the iterations?**"
      ],
      "metadata": {
        "id": "BHYHC4g2-2am"
      }
    },
    {
      "cell_type": "markdown",
      "source": [
        "Increasing the number of iterations (folds) in cross-validation can help mitigate the challenges of working with a very small training dataset or validation dataset to some extent, but it may not completely solve the underlying issues. Here's how increasing iterations can impact small datasets:\n",
        "\n",
        "Reduced Variance: With more iterations, you get multiple chances to train and validate your model on different subsets of your small dataset. This can help reduce the impact of randomness in the data split and provide a more stable estimate of model performance.\n",
        "\n",
        "Increased Robustness: Increasing iterations can make your model assessment more robust by ensuring that you explore a larger portion of your small dataset. It can give you a better understanding of how well your model generalizes, even when working with limited data.\n",
        "\n",
        "However, there are limitations to consider:\n",
        "\n",
        "Data Size: Even with more iterations, the fundamental limitation of a small dataset remains. If your dataset is extremely small, it may still lack the diversity and representativeness needed to train a robust machine learning model. Cross-validation can't create more data; it can only make the best use of the available data.\n",
        "\n",
        "Computational Cost: As you increase the number of iterations, you incur a higher computational cost. This can become a significant concern, especially when working with limited computational resources.\n",
        "\n",
        "Risk of Overfitting: With very small datasets, there's an increased risk of overfitting during model training, and cross-validation may not completely alleviate this issue. Overfitting occurs when a model learns to fit noise in the data because there isn't enough data to learn the underlying patterns.\n",
        "\n",
        "Model Choice: The choice of the machine learning algorithm and model complexity becomes crucial when dealing with small datasets. Some models are more robust to small datasets than others, and feature selection or engineering may be necessary to reduce dimensionality and improve performance."
      ],
      "metadata": {
        "id": "TfNzkg75_E9J"
      }
    }
  ]
}